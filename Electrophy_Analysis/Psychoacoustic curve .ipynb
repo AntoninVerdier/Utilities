{
 "cells": [
  {
   "cell_type": "code",
   "execution_count": 150,
   "metadata": {},
   "outputs": [],
   "source": [
    "import os \n",
    "import numpy as np \n",
    "import settings as s\n",
    "from Recording import Recording\n",
    "\n",
    "import os\n",
    "import umap\n",
    "import scipy.io as sio\n",
    "import numpy as np\n",
    "import h5py\n",
    "\n",
    "import matplotlib\n",
    "from rich import print\n",
    "from rich.progress import track\n",
    "from rich.traceback import install \n",
    "import matplotlib.pyplot as plt\n",
    "import pandas as pd \n",
    "import seaborn as sns\n",
    "\n",
    "from sklearn import svm\n",
    "from sklearn.model_selection import train_test_split, KFold, cross_val_score, LeaveOneOut, RepeatedKFold, cross_val_predict\n",
    "from sklearn.manifold import TSNE\n",
    "from sklearn.decomposition import PCA\n",
    "from sklearn.metrics import confusion_matrix\n",
    "from sklearn.utils import shuffle\n",
    "\n",
    "paths = s.paths()\n",
    "params = s.params()\n",
    "\n",
    "# Keep in mind that it is here\n",
    "import warnings\n",
    "warnings.filterwarnings('ignore')"
   ]
  },
  {
   "cell_type": "code",
   "execution_count": 151,
   "metadata": {},
   "outputs": [
    {
     "data": {
      "text/html": [
       "<pre style=\"white-space:pre;overflow-x:auto;line-height:normal;font-family:Menlo,'DejaVu Sans Mono',consolas,'Courier New',monospace\">Analyzing 23_11_2021_2 <span style=\"color: #808000; text-decoration-color: #808000\">...</span>\n",
       "</pre>\n"
      ],
      "text/plain": [
       "Analyzing 23_11_2021_2 \u001b[33m...\u001b[0m\n"
      ]
     },
     "metadata": {},
     "output_type": "display_data"
    },
    {
     "data": {
      "text/html": [
       "<pre style=\"white-space:pre;overflow-x:auto;line-height:normal;font-family:Menlo,'DejaVu Sans Mono',consolas,'Courier New',monospace\">Analyzing 23_11_2021_1 <span style=\"color: #808000; text-decoration-color: #808000\">...</span>\n",
       "</pre>\n"
      ],
      "text/plain": [
       "Analyzing 23_11_2021_1 \u001b[33m...\u001b[0m\n"
      ]
     },
     "metadata": {},
     "output_type": "display_data"
    },
    {
     "data": {
      "text/html": [
       "<pre style=\"white-space:pre;overflow-x:auto;line-height:normal;font-family:Menlo,'DejaVu Sans Mono',consolas,'Courier New',monospace\">Analyzing 09_11_2021_1 <span style=\"color: #808000; text-decoration-color: #808000\">...</span>\n",
       "</pre>\n"
      ],
      "text/plain": [
       "Analyzing 09_11_2021_1 \u001b[33m...\u001b[0m\n"
      ]
     },
     "metadata": {},
     "output_type": "display_data"
    },
    {
     "data": {
      "text/html": [
       "<pre style=\"white-space:pre;overflow-x:auto;line-height:normal;font-family:Menlo,'DejaVu Sans Mono',consolas,'Courier New',monospace\">Analyzing 08_11_2021_2 <span style=\"color: #808000; text-decoration-color: #808000\">...</span>\n",
       "</pre>\n"
      ],
      "text/plain": [
       "Analyzing 08_11_2021_2 \u001b[33m...\u001b[0m\n"
      ]
     },
     "metadata": {},
     "output_type": "display_data"
    },
    {
     "data": {
      "text/html": [
       "<pre style=\"white-space:pre;overflow-x:auto;line-height:normal;font-family:Menlo,'DejaVu Sans Mono',consolas,'Courier New',monospace\">Analyzing 09_11_2021_2 <span style=\"color: #808000; text-decoration-color: #808000\">...</span>\n",
       "</pre>\n"
      ],
      "text/plain": [
       "Analyzing 09_11_2021_2 \u001b[33m...\u001b[0m\n"
      ]
     },
     "metadata": {},
     "output_type": "display_data"
    },
    {
     "data": {
      "text/html": [
       "<pre style=\"white-space:pre;overflow-x:auto;line-height:normal;font-family:Menlo,'DejaVu Sans Mono',consolas,'Courier New',monospace\">Analyzing 08_11_2021_1 <span style=\"color: #808000; text-decoration-color: #808000\">...</span>\n",
       "</pre>\n"
      ],
      "text/plain": [
       "Analyzing 08_11_2021_1 \u001b[33m...\u001b[0m\n"
      ]
     },
     "metadata": {},
     "output_type": "display_data"
    }
   ],
   "source": [
    "# Load electrophy recordings\n",
    "recs = []\n",
    "main_folder = '/home/anverdie/Documents/Electrophy/To_analyze'\n",
    "for folder in os.listdir(main_folder):\n",
    "    cp = os.path.join(main_folder, folder)\n",
    "    print('Analyzing {} ...'.format(folder))\n",
    "    rec = Recording(cp, os.path.join(cp, 'SoundInfo.mat'), name=folder)\n",
    "    rec.select_data_quality(quality='good')\n",
    "    rec.ttl_alignment(multi=False)\n",
    "    recs.append(rec)\n",
    "\n",
    "rec = np.sum(recs)"
   ]
  },
  {
   "cell_type": "code",
   "execution_count": 152,
   "metadata": {},
   "outputs": [],
   "source": [
    "def compute_svm(X, y):\n",
    "\n",
    "    scores = []\n",
    "    X, y = shuffle(X, y)\n",
    "    clf = svm.SVC(kernel='linear')\n",
    "    scores = cross_val_score(clf, X, y, cv=5)\n",
    "\n",
    "\n",
    "    ########## Need to make sure that data is shuffled\n",
    "    #scores = cross_val_score(clf, X, y, cv=5)\n",
    "    return scores"
   ]
  },
  {
   "cell_type": "code",
   "execution_count": 153,
   "metadata": {},
   "outputs": [],
   "source": [
    "def svm_preformance(rec):\n",
    "    for i, t in enumerate([params.task1, params.task2, params.task3, params.task4]):\n",
    "        scores = []\n",
    "        for p in track(np.arange(0, 1000, 50), description='Compute SVM for each task ...'):\n",
    "            pop_vectors = rec.complete_vectors(0, p)\n",
    "\n",
    "            X = np.array([pop_vectors[stim][p] for stim in t for p in pop_vectors[stim]])\n",
    "            if i < 2:\n",
    "                y = np.array([0 if i < 8 else 1 for i, stim in enumerate(t) for p in pop_vectors[stim]])\n",
    "            elif i == 2:\n",
    "                y = params.y_task3\n",
    "            elif i == 3:\n",
    "                y = params.y_task4\n",
    "\n",
    "            score = compute_svm(X, y)\n",
    "            scores.append([np.mean(score), np.std(score)])\n",
    "\n",
    "        scores = np.array(scores).reshape(-1, 2)\n",
    "\n",
    "        plt.errorbar(np.arange(0, 1000, 50), scores[:, 0], label='Task {}'.format(i + 1))\n",
    "\n",
    "    plt.legend()\n",
    "    plt.savefig('performance_svm_population.png')\n",
    "    plt.show()"
   ]
  },
  {
   "cell_type": "code",
   "execution_count": 155,
   "metadata": {},
   "outputs": [],
   "source": [
    "def psychocurve1(rec, pb=0, pa=1000, timebin=10, vec='complete'):\n",
    "\n",
    "    colors = ['blue']\n",
    "    for tidx, t in enumerate([params.task1]):\n",
    "        \n",
    "        if vec == 'complete': pop_vectors = rec.get_complete_vectors(pb, pa, timebin=timebin)\n",
    "        if vec == 'time': pop_vectors = rec.get_timings_vectors(pb, pa, timebin=timebin)\n",
    "        if vec == 'pop': pop_vectors = rec.get_population_vectors(pb, pa)\n",
    "\n",
    "\n",
    "        X = np.array([pop_vectors[stim][p] for stim in t for p in pop_vectors[stim]])\n",
    "        y = np.array([0 if i < 8 else 1 for i, stim in enumerate(t) for p in pop_vectors[stim]])\n",
    "        \n",
    "        true_classes = np.array([i for i, stim in enumerate(t) for p in pop_vectors[stim]]) + 1\n",
    "\n",
    "        X, y, true_classes = shuffle(X, y, true_classes)\n",
    "        psycos = []\n",
    "        for train_index, test_index in track(RepeatedKFold(n_repeats=3).split(X), total=5*3):\n",
    "            clf = svm.SVC(kernel='linear')\n",
    "            X_train, X_test = X[train_index], X[test_index]\n",
    "            y_train, y_test = y[train_index], y[test_index]\n",
    "            tc_train, tc_test = true_classes[train_index], true_classes[test_index]\n",
    "\n",
    "            clf.fit(X_train, y_train)\n",
    "            y_pred = clf.predict(X_test)\n",
    "            correct = np.logical_not(np.logical_xor(y_pred, y_test))\n",
    "            counting_vec = list(correct * tc_test)\n",
    "\n",
    "            for i in np.unique(true_classes):\n",
    "                try:\n",
    "                    if i < 9:\n",
    "                        psycos.append(counting_vec.count(i)/list(tc_test).count(i))\n",
    "                    else:\n",
    "                        psycos.append(1 - counting_vec.count(i)/list(tc_test).count(i))\n",
    "                except ZeroDivisionError:\n",
    "                    psycos.append(0)\n",
    "    \n",
    "        \n",
    "        psycos = np.array(psycos).reshape(-1, 16)\n",
    "        psycos = np.mean(psycos, axis=0)\n",
    "\n",
    "        plt.plot(np.geomspace(6e3, 16e3, 16), psycos, color=colors[tidx], linewidth=2, markersize=6, marker='o')\n",
    "        plt.xscale('log')\n",
    "        plt.show()"
   ]
  },
  {
   "cell_type": "code",
   "execution_count": 156,
   "metadata": {},
   "outputs": [],
   "source": [
    "def psychocurve2(rec, pb=0, pa=1000, timebin=10, vec='complete'):\n",
    "    \n",
    "    \n",
    "    colors = ['forestgreen']\n",
    "    for tidx, t in enumerate([params.task2]):\n",
    "        \n",
    "        if vec == 'complete': pop_vectors = rec.get_complete_vectors(pb, pa, timebin=timebin)\n",
    "        if vec == 'time': pop_vectors = rec.get_timings_vectors(pb, pa, timebin=timebin)\n",
    "        if vec == 'pop': pop_vectors = rec.get_population_vectors(pb, pa)\n",
    "\n",
    "\n",
    "        X = np.array([pop_vectors[stim][p] for stim in t for p in pop_vectors[stim]])\n",
    "        y = np.array([0 if i < 8 else 1 for i, stim in enumerate(t) for p in pop_vectors[stim]])\n",
    "\n",
    "        true_classes = np.array([i for i, stim in enumerate(t) for p in pop_vectors[stim]]) + 1\n",
    "        \n",
    "        X, y, true_classes = shuffle(X, y, true_classes)\n",
    "        psycos = []\n",
    "        for train_index, test_index in track(RepeatedKFold(n_repeats=3).split(X), total=5*3):\n",
    "            clf = svm.SVC(kernel='linear')\n",
    "            X_train, X_test = X[train_index], X[test_index]\n",
    "            y_train, y_test = y[train_index], y[test_index]\n",
    "            tc_train, tc_test = true_classes[train_index], true_classes[test_index]\n",
    "\n",
    "            clf.fit(X_train, y_train)\n",
    "            y_pred = clf.predict(X_test)\n",
    "            correct = np.logical_not(np.logical_xor(y_pred, y_test))\n",
    "            counting_vec = list(correct * tc_test)\n",
    "\n",
    "            for i in np.unique(true_classes):\n",
    "                try:\n",
    "                    if i < 9:\n",
    "                        psycos.append(counting_vec.count(i)/list(tc_test).count(i))\n",
    "                    else:\n",
    "                        psycos.append(1 - counting_vec.count(i)/list(tc_test).count(i))\n",
    "                except ZeroDivisionError:\n",
    "                    psycos.append(0)\n",
    "    \n",
    "        \n",
    "        psycos = np.array(psycos).reshape(-1, 16)\n",
    "        psycos = np.mean(psycos, axis=0)\n",
    "\n",
    "        plt.plot(np.geomspace(20, 200, 16), psycos, color=colors[tidx], linewidth=2, markersize=6, marker='o')\n",
    "        plt.xscale('log')\n",
    "        plt.show()"
   ]
  },
  {
   "cell_type": "code",
   "execution_count": 157,
   "metadata": {},
   "outputs": [],
   "source": [
    "def psychocurve3(rec, pb=0, pa=1000, timebin=10, vec='complete'):\n",
    "    \n",
    "    task31 = [8, 12 , 16, 20, 0, 4]\n",
    "    task32 = [x + 1 for x in task31]\n",
    "    task33 = [x + 1 for x in task32]\n",
    "    task34 = [x + 1 for x in task33]\n",
    "    \n",
    "    colors = ['#faa307', '#f48c06', '#e85d04', '#dc2f02']\n",
    "    legends = ['45dB', '50dB', '55dB', '60dB']\n",
    "    for tidx, t in enumerate([task31, task32, task33, task34]):\n",
    "        \n",
    "        if vec == 'complete': pop_vectors = rec.get_complete_vectors(pb, pa, timebin=timebin)\n",
    "        if vec == 'time': pop_vectors = rec.get_timings_vectors(pb, pa, timebin=timebin)\n",
    "        if vec == 'pop': pop_vectors = rec.get_population_vectors(pb, pa)\n",
    "\n",
    "\n",
    "        X = np.array([pop_vectors[stim][p] for stim in t for p in pop_vectors[stim]])\n",
    "        y = np.array([0 if i < 3 else 1 for i, stim in enumerate(t) for p in pop_vectors[stim]])\n",
    "\n",
    "        true_classes = np.array([i for i, stim in enumerate(t) for p in pop_vectors[stim]]) + 1\n",
    "\n",
    "        X, y, true_classes = shuffle(X, y, true_classes)\n",
    "        psycos = []\n",
    "        for train_index, test_index in track(RepeatedKFold(n_repeats=3).split(X), total=5*3):\n",
    "            clf = svm.SVC(kernel='linear')\n",
    "            X_train, X_test = X[train_index], X[test_index]\n",
    "            y_train, y_test = y[train_index], y[test_index]\n",
    "            tc_train, tc_test = true_classes[train_index], true_classes[test_index]\n",
    "\n",
    "            clf.fit(X_train, y_train)\n",
    "            y_pred = clf.predict(X_test)\n",
    "            correct = np.logical_not(np.logical_xor(y_pred, y_test))\n",
    "            counting_vec = list(correct * tc_test)\n",
    "\n",
    "            for i in np.unique(true_classes):\n",
    "                try:\n",
    "                    if i < 4:\n",
    "                        psycos.append(counting_vec.count(i)/list(tc_test).count(i))\n",
    "                    else:\n",
    "                        psycos.append(1 - counting_vec.count(i)/list(tc_test).count(i))\n",
    "                except ZeroDivisionError:\n",
    "                    psycos.append(0)\n",
    "    \n",
    "        psycos = np.array(psycos).reshape(-1, 6)\n",
    "        psycos = np.mean(psycos, axis=0)\n",
    "\n",
    "        plt.plot(np.geomspace(20, 200, 6), psycos, color=colors[tidx], linewidth=2, markersize=6, marker='o')\n",
    "        plt.xscale('log')\n",
    "        plt.legend()\n",
    "    plt.show()\n",
    "        "
   ]
  },
  {
   "cell_type": "code",
   "execution_count": 158,
   "metadata": {},
   "outputs": [],
   "source": [
    "def psychocurve4(rec, pb=0, pa=1000, timebin=10, vec='complete'):\n",
    "    colors = ['purple']\n",
    "    for tidx, t in enumerate([params.task4]):\n",
    "        \n",
    "        if vec == 'complete': pop_vectors = rec.get_complete_vectors(pb, pa, timebin=timebin)\n",
    "        if vec == 'time': pop_vectors = rec.get_timings_vectors(pb, pa, timebin=timebin)\n",
    "        if vec == 'pop': pop_vectors = rec.get_population_vectors(pb, pa)\n",
    "\n",
    "\n",
    "        X = np.array([pop_vectors[stim][p] for stim in t for p in pop_vectors[stim]])\n",
    "        y = np.array([1 if i == 0 else 0 for i, stim in enumerate(t) for p in pop_vectors[stim]])\n",
    "\n",
    "        true_classes = np.array([i for i, stim in enumerate(t) for p in pop_vectors[stim]]) + 1\n",
    "        \n",
    "\n",
    "        X, y, true_classes = shuffle(X, y, true_classes)\n",
    "        psycos = []\n",
    "        for train_index, test_index in track(LeaveOneOut().split(X), total=X.shape[0]):\n",
    "            clf = svm.SVC(kernel='linear')\n",
    "            X_train, X_test = X[train_index], X[test_index]\n",
    "            y_train, y_test = y[train_index], y[test_index]\n",
    "            tc_train, tc_test = true_classes[train_index], true_classes[test_index]\n",
    "\n",
    "            clf.fit(X_train, y_train)\n",
    "            y_pred = clf.predict(X_test)\n",
    "            correct = np.logical_not(np.logical_xor(y_pred, y_test))\n",
    "            counting_vec = list(correct * tc_test)\n",
    "\n",
    "            for i in np.unique(true_classes):\n",
    "                try:\n",
    "                    if i > 1:\n",
    "                        psycos.append(counting_vec.count(i)/list(tc_test).count(i))\n",
    "                    else:\n",
    "                        psycos.append(1 - counting_vec.count(i)/list(tc_test).count(i))\n",
    "                except ZeroDivisionError:\n",
    "                    psycos.append(0)\n",
    "        \n",
    "        psycos = np.array(psycos).reshape(-1, 6)\n",
    "        psycos = np.mean(psycos, axis=0)\n",
    "\n",
    "        plt.plot([0, 2, 4, 6, 8, 10], psycos, color=colors[tidx], linewidth=2, markersize=6, marker='o')\n",
    "        plt.show()\n",
    "        "
   ]
  },
  {
   "cell_type": "code",
   "execution_count": null,
   "metadata": {},
   "outputs": [
    {
     "name": "stderr",
     "output_type": "stream",
     "text": [
      "/home/anverdie/Documents/Code/Utilities/Electrophy_Analysis/Recording.py:190: RuntimeWarning: invalid value encountered in true_divide\n",
      "  pvec = np.nan_to_num((pvec - np.min(pvec))/np.max(pvec))\n"
     ]
    },
    {
     "data": {
      "application/vnd.jupyter.widget-view+json": {
       "model_id": "dd85de89a0fd4818b1d5231ef171762d",
       "version_major": 2,
       "version_minor": 0
      },
      "text/plain": [
       "Output()"
      ]
     },
     "metadata": {},
     "output_type": "display_data"
    },
    {
     "data": {
      "text/html": [
       "<pre style=\"white-space:pre;overflow-x:auto;line-height:normal;font-family:Menlo,'DejaVu Sans Mono',consolas,'Courier New',monospace\">\n",
       "</pre>\n"
      ],
      "text/plain": [
       "\n"
      ]
     },
     "metadata": {},
     "output_type": "display_data"
    },
    {
     "data": {
      "image/png": "[encoded data removed]",
      "text/plain": [
       "<Figure size 432x288 with 1 Axes>"
      ]
     },
     "metadata": {
      "needs_background": "light"
     },
     "output_type": "display_data"
    },
    {
     "name": "stderr",
     "output_type": "stream",
     "text": [
      "/home/anverdie/Documents/Code/Utilities/Electrophy_Analysis/Recording.py:190: RuntimeWarning: invalid value encountered in true_divide\n",
      "  pvec = np.nan_to_num((pvec - np.min(pvec))/np.max(pvec))\n"
     ]
    }
   ],
   "source": [
    "psychocurve1(rec, pb=0, pa=1000,timebin=10, vec='complete')\n",
    "psychocurve2(rec, pb=0, pa=1000,timebin=10, vec='complete')\n",
    "psychocurve3(rec, pb=0, pa=1000,timebin=10, vec='complete')\n",
    "psychocurve4(rec, pb=0, pa=1000,timebin=10, vec='complete')"
   ]
  }
 ],
 "metadata": {
  "kernelspec": {
   "display_name": "kaggle",
   "language": "python",
   "name": "kaggle"
  },
  "language_info": {
   "codemirror_mode": {
    "name": "ipython",
    "version": 3
   },
   "file_extension": ".py",
   "mimetype": "text/x-python",
   "name": "python",
   "nbconvert_exporter": "python",
   "pygments_lexer": "ipython3",
   "version": "3.8.8"
  }
 },
 "nbformat": 4,
 "nbformat_minor": 4
}
